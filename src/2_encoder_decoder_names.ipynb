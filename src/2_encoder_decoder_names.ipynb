{
 "cells": [
  {
   "cell_type": "markdown",
   "metadata": {},
   "source": [
    "# Name Encoder-Decoder"
   ]
  },
  {
   "cell_type": "markdown",
   "metadata": {},
   "source": [
    "Now try an encoder decoder. Rather than classifying the country, let's encode the name; and feed a decoder a '<sos>' token and see if it can generate the country sequentially."
   ]
  },
  {
   "cell_type": "markdown",
   "metadata": {},
   "source": [
    "## Libraries"
   ]
  },
  {
   "cell_type": "code",
   "execution_count": 1,
   "metadata": {},
   "outputs": [],
   "source": [
    "import os\n",
    "import numpy as np\n",
    "import pandas as pd\n",
    "from sklearn.metrics import classification_report\n",
    "from sklearn.metrics import ConfusionMatrixDisplay\n",
    "\n",
    "\n",
    "from common.utils import (\n",
    "    load_language,\n",
    ")\n",
    "\n",
    "import torch\n",
    "from torch.utils.data import Subset\n",
    "import lightning as L\n",
    "from lightning.pytorch.loggers import TensorBoardLogger\n",
    "from pytorch_lightning import seed_everything\n",
    "\n",
    "import logging\n",
    "\n",
    "logging.basicConfig(level=logging.INFO)\n",
    "logger = logging.getLogger(__name__)"
   ]
  },
  {
   "cell_type": "markdown",
   "metadata": {},
   "source": [
    "## Globals"
   ]
  },
  {
   "cell_type": "code",
   "execution_count": 2,
   "metadata": {},
   "outputs": [
    {
     "name": "stderr",
     "output_type": "stream",
     "text": [
      "Seed set to 2718\n"
     ]
    },
    {
     "data": {
      "text/plain": [
       "2718"
      ]
     },
     "execution_count": 2,
     "metadata": {},
     "output_type": "execute_result"
    }
   ],
   "source": [
    "seed_everything(2718)"
   ]
  },
  {
   "cell_type": "code",
   "execution_count": 3,
   "metadata": {},
   "outputs": [],
   "source": [
    "# File paths\n",
    "NAMES_INPUT_PATH = \"../data/processed/names.txt\"\n",
    "NAMES_INDICES_INPUT_PATH = \"../data/processed/names_indices.txt\"\n",
    "COUNTRY_INPUT_PATH = \"../data/processed/countries.txt\"\n",
    "COUNTRY_LETTER_INDICES_INPUT_PATH = (\n",
    "    \"../data/processed/countries_letter_indices.txt\"\n",
    ")\n",
    "\n",
    "# Language model paths\n",
    "NAMES_MODEL_PATH = \"../models/names_model.pkl\"\n",
    "COUNTRIES_LETTER_MODEL_PATH = \"../models/countries_letter_model.pkl\"\n",
    "\n",
    "\n",
    "# Training params\n",
    "EPOCHS = 10\n",
    "BATCH_SIZE = 128\n",
    "EMBEDDING_SIZE = 128\n",
    "HIDDEN_SIZE = 1024\n",
    "UNIT_TYPE = \"GRU\"\n",
    "ACCELERATOR = \"gpu\"\n",
    "\n",
    "# CPUS to give each dataloader\n",
    "NUM_WORKERS = 4"
   ]
  },
  {
   "cell_type": "code",
   "execution_count": 4,
   "metadata": {},
   "outputs": [
    {
     "name": "stderr",
     "output_type": "stream",
     "text": [
      "INFO:common.utils:Loading from ../models/names_model.pkl\n",
      "INFO:common.utils:Creating a language object for names\n",
      "INFO:common.utils:Loading from ../models/countries_letter_model.pkl\n",
      "INFO:common.utils:Creating a language object for countries_letters\n"
     ]
    },
    {
     "name": "stdout",
     "output_type": "stream",
     "text": [
      "Name vocab size: 91\n",
      "Country vocab size: 35\n"
     ]
    }
   ],
   "source": [
    "# Load the language models\n",
    "names_language = load_language(NAMES_MODEL_PATH)\n",
    "countries_language = load_language(COUNTRIES_LETTER_MODEL_PATH)\n",
    "\n",
    "NAME_VOCAB_SIZE = len(names_language.vocabulary)\n",
    "COUNTRY_VOCAB_SIZE = len(countries_language.vocabulary)\n",
    "\n",
    "print(f\"Name vocab size: {NAME_VOCAB_SIZE}\")\n",
    "print(f\"Country vocab size: {COUNTRY_VOCAB_SIZE}\")"
   ]
  },
  {
   "cell_type": "markdown",
   "metadata": {},
   "source": [
    "## Utilities"
   ]
  },
  {
   "cell_type": "code",
   "execution_count": 5,
   "metadata": {},
   "outputs": [],
   "source": [
    "class NamesDataset(torch.utils.data.Dataset):\n",
    "    \"\"\"\n",
    "    Dataset for the names dataset.\n",
    "    \"\"\"\n",
    "\n",
    "    def __init__(\n",
    "        self,\n",
    "        names_path,\n",
    "        countries_path,\n",
    "        name_indices_path,\n",
    "        country_indices_path,\n",
    "    ):\n",
    "        self.names_path = names_path\n",
    "        self.countries_path = countries_path\n",
    "        self.name_indices_path = name_indices_path\n",
    "        self.country_indices_path = country_indices_path\n",
    "\n",
    "        self.names = []\n",
    "        self.countries = []\n",
    "        self.name_indices = []\n",
    "        self.country_indices = []\n",
    "\n",
    "        # Load files\n",
    "        self._load_data()\n",
    "\n",
    "        return None\n",
    "\n",
    "    def _load_label_data(self, path):\n",
    "        \"\"\"\n",
    "        Load in a file where each line is a sentence.\n",
    "        \"\"\"\n",
    "        with open(path, \"r\") as f:\n",
    "            data = f.readlines()\n",
    "\n",
    "        data = [x.strip() for x in data]\n",
    "\n",
    "        return data\n",
    "\n",
    "    def _load_index_data(self, path):\n",
    "        \"\"\"\n",
    "        Load in a file where each line is a list of indices.\n",
    "        \"\"\"\n",
    "        with open(path, \"r\") as f:\n",
    "            data = f.readlines()\n",
    "\n",
    "        data = [x.strip().split(\" \") for x in data]\n",
    "        data = [[int(x) for x in y] for y in data]\n",
    "\n",
    "        return data\n",
    "\n",
    "    def _load_data(self):\n",
    "        names = self._load_label_data(self.names_path)\n",
    "        self.names = names\n",
    "\n",
    "        countries = self._load_label_data(self.countries_path)\n",
    "        self.countries = countries\n",
    "\n",
    "        name_indices = self._load_index_data(self.name_indices_path)\n",
    "        self.name_indices = name_indices\n",
    "\n",
    "        country_indices = self._load_index_data(self.country_indices_path)\n",
    "        self.country_indices = country_indices\n",
    "\n",
    "        return None\n",
    "\n",
    "    def __len__(self):\n",
    "        return len(self.names)\n",
    "\n",
    "    def __getitem__(self, idx):\n",
    "        names = self.names[idx]\n",
    "        country = self.countries[idx]\n",
    "\n",
    "        name_indices = self.name_indices[idx]\n",
    "        country_indices = self.country_indices[idx]\n",
    "\n",
    "        # Convert to tensors\n",
    "        name_indices = torch.tensor(name_indices).long()\n",
    "        country_indices = torch.tensor(country_indices).long()\n",
    "\n",
    "        return name_indices, country_indices, names, country"
   ]
  },
  {
   "cell_type": "code",
   "execution_count": 6,
   "metadata": {},
   "outputs": [],
   "source": [
    "def custom_collate_fn(batch):\n",
    "    \"\"\"\n",
    "    We receive a list of tuples 4 long.\n",
    "    Each tuple is a tokenized name, a tokenized country (which is one-hot),\n",
    "    the name, and the country as strings.\n",
    "\n",
    "    We want to pad and stack them.\n",
    "    \"\"\"\n",
    "\n",
    "    x = [item[0] for item in batch]\n",
    "    y = [item[1] for item in batch]\n",
    "    names = [item[2] for item in batch]\n",
    "    countries = [item[3] for item in batch]\n",
    "\n",
    "    # Lengths to pass the pack and pad sequence function\n",
    "    x_len = [len(item) for item in x]\n",
    "    y_len = [len(item) for item in y]\n",
    "\n",
    "    # Pad the sequences\n",
    "    x = torch.nn.utils.rnn.pad_sequence(x, batch_first=True)\n",
    "    y = torch.nn.utils.rnn.pad_sequence(y, batch_first=True)\n",
    "\n",
    "    # Now since we're teacher forcing we need two versions of y. One with\n",
    "    # missing the start token, y_target, and one with missing the end token,\n",
    "    # y_input\n",
    "    y_target = y[:, 1:]\n",
    "    y_input = y[:, :-1]\n",
    "\n",
    "    return x, y_input, y_target"
   ]
  },
  {
   "cell_type": "code",
   "execution_count": 7,
   "metadata": {},
   "outputs": [],
   "source": [
    "dataset = NamesDataset(\n",
    "    names_path=NAMES_INPUT_PATH,\n",
    "    countries_path=COUNTRY_INPUT_PATH,\n",
    "    name_indices_path=NAMES_INDICES_INPUT_PATH,\n",
    "    country_indices_path=COUNTRY_LETTER_INDICES_INPUT_PATH,\n",
    ")"
   ]
  },
  {
   "cell_type": "code",
   "execution_count": 8,
   "metadata": {},
   "outputs": [
    {
     "name": "stdout",
     "output_type": "stream",
     "text": [
      "Input:  tensor([ 2, 39,  4,  8,  7,  3])\n",
      "Target:  tensor([ 2, 13,  5, 12, 11,  4,  6, 10,  3])\n",
      "Name:  Vane\n",
      "Country:  English\n",
      "\n",
      "Input:  ['<SOS>', 'V', 'a', 'n', 'e', '<EOS>']\n",
      "Target:  ['<SOS>', 'E', 'n', 'g', 'l', 'i', 's', 'h', '<EOS>']\n"
     ]
    }
   ],
   "source": [
    "# Inspect a random sample\n",
    "# Show random example\n",
    "x, y, name, country = dataset[np.random.randint(0, len(dataset))]\n",
    "print(\"Input: \", x)\n",
    "print(\"Target: \", y)\n",
    "print(\"Name: \", name)\n",
    "print(\"Country: \", country)\n",
    "\n",
    "# And our language model can invert the indices\n",
    "print(\"\\nInput: \", names_language.index_to_token(x))\n",
    "print(\"Target: \", countries_language.index_to_token(y))"
   ]
  },
  {
   "cell_type": "code",
   "execution_count": 9,
   "metadata": {},
   "outputs": [],
   "source": [
    "train, val = torch.utils.data.random_split(dataset, [0.7, 0.3])"
   ]
  },
  {
   "cell_type": "code",
   "execution_count": 10,
   "metadata": {},
   "outputs": [],
   "source": [
    "# Make a dataloader that pulls 1 batch at a time. Note that more than 1 batch\n",
    "# will throw an error since we have variable length sequences. We'd need to pass\n",
    "# a custom collation function for that, which we'll do in the next notebook.\n",
    "train_dataloader = torch.utils.data.DataLoader(\n",
    "    train,\n",
    "    batch_size=BATCH_SIZE,\n",
    "    shuffle=True,\n",
    "    num_workers=NUM_WORKERS,\n",
    "    collate_fn=custom_collate_fn,\n",
    ")\n",
    "\n",
    "val_dataloader = torch.utils.data.DataLoader(\n",
    "    val,\n",
    "    batch_size=BATCH_SIZE,\n",
    "    shuffle=False,\n",
    "    num_workers=NUM_WORKERS,\n",
    "    collate_fn=custom_collate_fn,\n",
    ")"
   ]
  },
  {
   "cell_type": "code",
   "execution_count": 11,
   "metadata": {},
   "outputs": [
    {
     "name": "stdout",
     "output_type": "stream",
     "text": [
      "X shape:  torch.Size([128, 19])\n",
      "Y input shape:  torch.Size([128, 9])\n",
      "Y target shape:  torch.Size([128, 9])\n",
      "\n",
      "Decode the first row\n",
      "X:  ['<SOS>', 'J', 'a', 'k', 'i', 'm', 'c', 'h', 'i', 'k', '<EOS>', '<PAD>', '<PAD>', '<PAD>', '<PAD>', '<PAD>', '<PAD>', '<PAD>', '<PAD>']\n",
      "Y input:  ['<SOS>', 'R', 'u', 's', 's', 'i', 'a', 'n', '<EOS>']\n",
      "Y target:  ['R', 'u', 's', 's', 'i', 'a', 'n', '<EOS>', '<PAD>']\n"
     ]
    }
   ],
   "source": [
    "# Inspect the data loader.\n",
    "\n",
    "x, y_input, y_target = next(iter(train_dataloader))\n",
    "print(\"X shape: \", x.shape)\n",
    "print(\"Y input shape: \", y_input.shape)\n",
    "print(\"Y target shape: \", y_target.shape)\n",
    "\n",
    "# Just to be sure, decode the first row\n",
    "print(\"\\nDecode the first row\")\n",
    "print(\"X: \", names_language.index_to_token(x[0]))\n",
    "print(\"Y input: \", countries_language.index_to_token(y_input[0]))\n",
    "print(\"Y target: \", countries_language.index_to_token(y_target[0]))"
   ]
  },
  {
   "cell_type": "markdown",
   "metadata": {},
   "source": [
    "## Model"
   ]
  },
  {
   "cell_type": "code",
   "execution_count": 12,
   "metadata": {},
   "outputs": [],
   "source": [
    "class NameEncoderDecoder(L.LightningModule):\n",
    "    def __init__(\n",
    "        self, input_vocab_len, output_vocab_len, embedding_size, hidden_size\n",
    "    ):\n",
    "        super().__init__()\n",
    "\n",
    "        self.input_vocab_len = input_vocab_len\n",
    "        self.output_vocab_len = output_vocab_len\n",
    "        self.embedding_size = embedding_size\n",
    "        self.hidden_size = hidden_size\n",
    "\n",
    "        self.criterion = torch.nn.NLLLoss()\n",
    "\n",
    "        # Embedding\n",
    "        self.input_embedding = torch.nn.Embedding(\n",
    "            self.input_vocab_len, self.embedding_size\n",
    "        )\n",
    "        self.output_embedding = torch.nn.Embedding(\n",
    "            self.output_vocab_len, self.embedding_size\n",
    "        )\n",
    "\n",
    "        # Encoder\n",
    "        self.encoder = torch.nn.GRU(\n",
    "            self.embedding_size,\n",
    "            self.hidden_size,\n",
    "            batch_first=True,\n",
    "            dropout=0.2,\n",
    "        )\n",
    "\n",
    "        # Decoder\n",
    "        # The input to the decoder will be a concat of the\n",
    "        self.decoder = torch.nn.GRU(\n",
    "            self.embedding_size + self.hidden_size,\n",
    "            self.hidden_size,\n",
    "            batch_first=True,\n",
    "            dropout=0.2,\n",
    "        )\n",
    "\n",
    "        self.dense = torch.nn.Linear(self.hidden_size, self.output_vocab_len)\n",
    "\n",
    "        self.log_softmax = torch.nn.LogSoftmax(dim=-1)\n",
    "\n",
    "    def encoder_step(self, x):\n",
    "        \"\"\"\n",
    "        Push inputs through encoder.\n",
    "        \"\"\"\n",
    "\n",
    "        # Shapes are:\n",
    "        # x: (batch_size, seq_len)\n",
    "        # decoder_input: (batch_size, seq_len-1)\n",
    "        # decoder_target: (batch_size, seq_len-1)\n",
    "\n",
    "        # Construct embeddings\n",
    "        x = self.input_embedding(x)\n",
    "        # x: (batch_size, seq_len, embedding_size)\n",
    "\n",
    "        # Run the encoder\n",
    "        encoder_output, context_vector = self.encoder(x)\n",
    "        # output: (batch_size, seq_len, hidden_size)\n",
    "        # context_vector: (1, batch_size, hidden_size)\n",
    "\n",
    "        return context_vector\n",
    "\n",
    "    def decoder_step(self, decoder_input, context_vector, decoder_state=None):\n",
    "        \"\"\"\n",
    "        Push inputs through decoder.\n",
    "        \"\"\"\n",
    "\n",
    "        # Embed target outputs\n",
    "        decoder_input = self.output_embedding(decoder_input)\n",
    "        # decoder_input: (batch_size, seq_len-1, embedding_size)\n",
    "\n",
    "        # Currently the context vector is (1, batch_size, hidden_size)\n",
    "        # decoder_input is (batch_size, seq_len-1, embedding_size)\n",
    "        # Rather than construct a special RNN module that can handle two inputs,\n",
    "        # we're simply going to concatenate the context vector to the decoder input.\n",
    "\n",
    "        # Permute the dimensions of context vector to be conformable with decoder_input\n",
    "        context_vector = context_vector.permute(1, 0, 2)\n",
    "        # context_vector: (batch_size, 1, hidden_size)\n",
    "\n",
    "        # Make copies of the context vector along the sequence length demiension\n",
    "        context_vector = context_vector.repeat(1, decoder_input.shape[1], 1)\n",
    "        # context_vector: (batch_size, seq_len-1, hidden_size)\n",
    "\n",
    "        decoder_input = torch.cat([decoder_input, context_vector], dim=2)\n",
    "        # decoder_input: (batch_size, seq_len-1, embedding_size + hidden_size)\n",
    "\n",
    "        # Now run the decoder_input through the decoder\n",
    "        decoder_output, decoder_state = self.decoder(\n",
    "            decoder_input, decoder_state\n",
    "        )\n",
    "        # decoder_output: (batch_size, seq_len-1, hidden_size)\n",
    "\n",
    "        # decoder_output is (batch_size, seq_len-1, hidden_size)\n",
    "        # Add a dense layer to convert it to the decoder_output vocab size\n",
    "        decoder_output = self.dense(decoder_output)\n",
    "        # decoder_output: (batch_size, seq_len-1, decoder_output_vocab_size)\n",
    "\n",
    "        # Now log softmax the decoder_output along last dimension\n",
    "        decoder_output = self.log_softmax(decoder_output)\n",
    "        # output: (batch_size, seq_len-1, output_vocab_size)\n",
    "\n",
    "        return decoder_output, decoder_state\n",
    "\n",
    "    def training_step(self, batch, batch_idx):\n",
    "        x, decoder_input, decoder_target = batch\n",
    "\n",
    "        # Get context vector\n",
    "        context_vector = self.encoder_step(x)\n",
    "\n",
    "        # Get decoder output\n",
    "        decoder_output, _ = self.decoder_step(decoder_input, context_vector)\n",
    "        # decoder_output: (batch_size, seq_len-1, output_vocab_size)\n",
    "\n",
    "        # To use our NLL loss, we need to reshape the output and target\n",
    "        # The outputs need to be (N, class_size) and the targets (N)\n",
    "        # So flatten the batch and sequence dimensions.\n",
    "        decoder_output = decoder_output.reshape(-1, self.output_vocab_len)\n",
    "        decoder_target = decoder_target.reshape(-1)\n",
    "\n",
    "        # output: (batch_size * seq_len-1, output_vocab_size)\n",
    "        # decoder_target: (batch_size * seq_len-1, )\n",
    "\n",
    "        loss = self.criterion(decoder_output, decoder_target)\n",
    "\n",
    "        self.log(\"train_loss\", loss)\n",
    "\n",
    "        return loss\n",
    "\n",
    "    def validation_step(self, batch, batch_idx):\n",
    "        \"\"\"\n",
    "        Same as training step. We have the option to add more metrics here.\n",
    "        \"\"\"\n",
    "        x, decoder_input, decoder_target = batch\n",
    "        context_vector = self.encoder_step(x)\n",
    "\n",
    "        decoder_output, _ = self.decoder_step(decoder_input, context_vector)\n",
    "        decoder_output = decoder_output.reshape(-1, self.output_vocab_len)\n",
    "        decoder_target = decoder_target.reshape(-1)\n",
    "\n",
    "        loss = self.criterion(decoder_output, decoder_target)\n",
    "\n",
    "        self.log(\"validation_loss\", loss)\n",
    "\n",
    "        return None\n",
    "\n",
    "    def configure_optimizers(self):\n",
    "        optimizer = torch.optim.Adam(self.parameters(), lr=1e-3)\n",
    "\n",
    "        # One cycle learning rate scheduler\n",
    "        # scheduler = torch.optim.lr_scheduler.OneCycleLR(\n",
    "        #     optimizer,\n",
    "        #     max_lr=0.01,\n",
    "        #     steps_per_epoch=len(train_dataloader),\n",
    "        #     epochs=EPOCHS,\n",
    "        # )\n",
    "\n",
    "        # Reduce on plateau\n",
    "        scheduler = torch.optim.lr_scheduler.ReduceLROnPlateau(\n",
    "            optimizer,\n",
    "            mode=\"min\",\n",
    "            factor=0.5,\n",
    "            patience=3,\n",
    "            verbose=True,\n",
    "        )\n",
    "\n",
    "        return {\n",
    "            \"optimizer\": optimizer,\n",
    "            \"lr_scheduler\": scheduler,\n",
    "            \"monitor\": \"validation_loss\",\n",
    "        }\n",
    "\n",
    "    def inference(self, name: str):\n",
    "        \"\"\"\n",
    "        Run inference on a single example.\n",
    "        \"\"\"\n",
    "        assert isinstance(name, str)\n",
    "\n",
    "        # Tokenize the input\n",
    "        input_tokens = names_language.tokenizer(name)\n",
    "\n",
    "        # Add <SOS> and <EOS> tokens\n",
    "        input_tokens = [\"<SOS>\"] + input_tokens + [\"<EOS>\"]\n",
    "\n",
    "        input_indices = names_language.token_to_index(input_tokens)\n",
    "\n",
    "        x = torch.tensor(input_indices).unsqueeze(0).long()\n",
    "        # x should have shape (1, seq_len)\n",
    "        assert x.shape[0] == 1\n",
    "\n",
    "        # Get context vector\n",
    "        context_vector = self.encoder_step(x)\n",
    "\n",
    "        # Now we need to run the decoder\n",
    "        # We'll start with a start token and no state\n",
    "        decoder_input = torch.tensor(\n",
    "            [countries_language.token_to_index(\"<SOS>\")]\n",
    "        ).unsqueeze(0)\n",
    "        decoder_state = None\n",
    "        # decoder_input: (1, 1) and it's a long\n",
    "\n",
    "        # We'll keep track of the output\n",
    "        output = []\n",
    "\n",
    "        reached_eos = False\n",
    "        for i in range(10):\n",
    "            # Run the decoder\n",
    "            decoder_output, decoder_state = self.decoder_step(\n",
    "                decoder_input, context_vector, decoder_state\n",
    "            )\n",
    "            # decoder_output: (1, 1, output_vocab_size)\n",
    "\n",
    "            # Get the most likely token\n",
    "            token = torch.argmax(decoder_output, dim=-1)\n",
    "            # token: (1, 1)\n",
    "\n",
    "            # Append to the output\n",
    "            output.append(token.squeeze(0).item())\n",
    "\n",
    "            # If we've reached the end of the sentence, break\n",
    "            if token.item() == countries_language.token_to_index(\"<EOS>\"):\n",
    "                reached_eos = True\n",
    "                break\n",
    "\n",
    "            # Update the decoder input\n",
    "            decoder_input = token\n",
    "\n",
    "        if not reached_eos:\n",
    "            logger.info(\"Failed to reach EOS token\")\n",
    "\n",
    "        # Convert the output to a string\n",
    "        output = [countries_language.index_to_token(x) for x in output]\n",
    "        # If the last token is <EOS> remove it\n",
    "        if output[-1] == \"<EOS>\":\n",
    "            output = output[:-1]\n",
    "\n",
    "        output = \"\".join(output)\n",
    "\n",
    "        return output"
   ]
  },
  {
   "cell_type": "code",
   "execution_count": 13,
   "metadata": {},
   "outputs": [
    {
     "name": "stderr",
     "output_type": "stream",
     "text": [
      "/home/rob/encoder-decoder/.venv/lib/python3.12/site-packages/torch/nn/modules/rnn.py:88: UserWarning: dropout option adds dropout after all but last recurrent layer, so non-zero dropout expects num_layers greater than 1, but got dropout=0.2 and num_layers=1\n",
      "  warnings.warn(\"dropout option adds dropout after all but last \"\n"
     ]
    }
   ],
   "source": [
    "model = NameEncoderDecoder(\n",
    "    input_vocab_len=NAME_VOCAB_SIZE,\n",
    "    output_vocab_len=COUNTRY_VOCAB_SIZE,\n",
    "    embedding_size=EMBEDDING_SIZE,\n",
    "    hidden_size=HIDDEN_SIZE,\n",
    ")\n",
    "\n",
    "cwd = os.getcwd()\n",
    "parent_dir = os.path.dirname(cwd)\n",
    "\n",
    "tensorboard_logger = TensorBoardLogger(\n",
    "    save_dir=parent_dir,\n",
    "    name=\"logs/name_country_encoeer_decoder\",\n",
    "    version=f\"UNIT={UNIT_TYPE}_BATCH_SIZE={BATCH_SIZE}_EMBEDDING_SIZE={EMBEDDING_SIZE}_HIDDEN_SIZE={HIDDEN_SIZE}\",\n",
    ")"
   ]
  },
  {
   "cell_type": "code",
   "execution_count": 14,
   "metadata": {},
   "outputs": [
    {
     "name": "stderr",
     "output_type": "stream",
     "text": [
      "GPU available: True (cuda), used: True\n",
      "TPU available: False, using: 0 TPU cores\n",
      "HPU available: False, using: 0 HPUs\n"
     ]
    }
   ],
   "source": [
    "model.train()\n",
    "trainer = L.Trainer(\n",
    "    devices=1,\n",
    "    accelerator=ACCELERATOR,\n",
    "    logger=tensorboard_logger,\n",
    "    max_epochs=EPOCHS,\n",
    ")"
   ]
  },
  {
   "cell_type": "code",
   "execution_count": 15,
   "metadata": {},
   "outputs": [
    {
     "name": "stderr",
     "output_type": "stream",
     "text": [
      "LOCAL_RANK: 0 - CUDA_VISIBLE_DEVICES: [0]\n",
      "/home/rob/encoder-decoder/.venv/lib/python3.12/site-packages/torch/optim/lr_scheduler.py:60: UserWarning: The verbose parameter is deprecated. Please use get_last_lr() to access the learning rate.\n",
      "  warnings.warn(\n",
      "\n",
      "  | Name             | Type       | Params | Mode \n",
      "--------------------------------------------------------\n",
      "0 | criterion        | NLLLoss    | 0      | train\n",
      "1 | input_embedding  | Embedding  | 11.6 K | train\n",
      "2 | output_embedding | Embedding  | 4.5 K  | train\n",
      "3 | encoder          | GRU        | 3.5 M  | train\n",
      "4 | decoder          | GRU        | 6.7 M  | train\n",
      "5 | dense            | Linear     | 35.9 K | train\n",
      "6 | log_softmax      | LogSoftmax | 0      | train\n",
      "--------------------------------------------------------\n",
      "10.3 M    Trainable params\n",
      "0         Non-trainable params\n",
      "10.3 M    Total params\n",
      "41.152    Total estimated model params size (MB)\n",
      "7         Modules in train mode\n",
      "0         Modules in eval mode\n"
     ]
    },
    {
     "name": "stdout",
     "output_type": "stream",
     "text": [
      "Epoch 9: 100%|██████████| 110/110 [00:09<00:00, 11.01it/s, v_num=1024]     "
     ]
    },
    {
     "name": "stderr",
     "output_type": "stream",
     "text": [
      "`Trainer.fit` stopped: `max_epochs=10` reached.\n"
     ]
    },
    {
     "name": "stdout",
     "output_type": "stream",
     "text": [
      "Epoch 9: 100%|██████████| 110/110 [00:10<00:00, 10.31it/s, v_num=1024]\n"
     ]
    }
   ],
   "source": [
    "trainer.fit(model, train_dataloader, val_dataloader)"
   ]
  },
  {
   "cell_type": "code",
   "execution_count": 16,
   "metadata": {},
   "outputs": [],
   "source": [
    "# Save the model\n",
    "if not os.path.exists(\"../models\"):\n",
    "    os.makedirs(\"../models\")\n",
    "\n",
    "torch.save(model.state_dict(), \"../models/name_country_encoder_decoder.pth\")"
   ]
  },
  {
   "cell_type": "code",
   "execution_count": 34,
   "metadata": {},
   "outputs": [
    {
     "data": {
      "text/plain": [
       "'English'"
      ]
     },
     "execution_count": 34,
     "metadata": {},
     "output_type": "execute_result"
    }
   ],
   "source": [
    "model.freeze()\n",
    "\n",
    "name = \"Thompson\"\n",
    "model.inference(name)"
   ]
  },
  {
   "cell_type": "code",
   "execution_count": 18,
   "metadata": {},
   "outputs": [
    {
     "name": "stdout",
     "output_type": "stream",
     "text": [
      "Name:  Shalnev\n",
      "Country:  Russian\n",
      "Predicted:  Russian\n",
      "\n",
      "\n",
      "Name:  Yanagawa\n",
      "Country:  Japanese\n",
      "Predicted:  Japanese\n",
      "\n",
      "\n",
      "Name:  Juhnin\n",
      "Country:  Russian\n",
      "Predicted:  Russian\n",
      "\n",
      "\n"
     ]
    }
   ],
   "source": [
    "# Run it over the dataset\n",
    "\n",
    "for i in range(3):\n",
    "    x, y, name, country = dataset[np.random.randint(0, len(dataset))]\n",
    "    print(\"Name: \", name)\n",
    "    print(\"Country: \", country)\n",
    "    print(\"Predicted: \", model.inference(name))\n",
    "    print(\"\\n\")"
   ]
  },
  {
   "cell_type": "code",
   "execution_count": 19,
   "metadata": {},
   "outputs": [
    {
     "name": "stderr",
     "output_type": "stream",
     "text": [
      "INFO:__main__:Failed to reach EOS token\n",
      "INFO:__main__:Failed to reach EOS token\n",
      "INFO:__main__:Failed to reach EOS token\n",
      "INFO:__main__:Failed to reach EOS token\n",
      "INFO:__main__:Failed to reach EOS token\n",
      "INFO:__main__:Failed to reach EOS token\n",
      "INFO:__main__:Failed to reach EOS token\n",
      "INFO:__main__:Failed to reach EOS token\n",
      "INFO:__main__:Failed to reach EOS token\n",
      "INFO:__main__:Failed to reach EOS token\n",
      "INFO:__main__:Failed to reach EOS token\n",
      "INFO:__main__:Failed to reach EOS token\n",
      "INFO:__main__:Failed to reach EOS token\n",
      "INFO:__main__:Failed to reach EOS token\n",
      "INFO:__main__:Failed to reach EOS token\n",
      "INFO:__main__:Failed to reach EOS token\n",
      "INFO:__main__:Failed to reach EOS token\n",
      "INFO:__main__:Failed to reach EOS token\n",
      "INFO:__main__:Failed to reach EOS token\n",
      "INFO:__main__:Failed to reach EOS token\n",
      "INFO:__main__:Failed to reach EOS token\n"
     ]
    }
   ],
   "source": [
    "# Evaluate accuracy:\n",
    "\n",
    "predictions = []\n",
    "for x, y, name, actual in val:\n",
    "    predicted = model.inference(name)\n",
    "\n",
    "    predictions.append((name, actual, predicted))"
   ]
  },
  {
   "cell_type": "code",
   "execution_count": 20,
   "metadata": {},
   "outputs": [
    {
     "name": "stdout",
     "output_type": "stream",
     "text": [
      "              precision    recall  f1-score   support\n",
      "\n",
      "      Arabic       0.97      0.99      0.98       601\n",
      "     Chinese       0.69      0.49      0.57        86\n",
      "       Czech       0.48      0.37      0.42       150\n",
      "       Dutch       0.73      0.54      0.62        83\n",
      "     English       0.79      0.74      0.76      1143\n",
      "      French       0.29      0.23      0.25        71\n",
      "      German       0.45      0.65      0.53       223\n",
      "       Greek       0.53      0.77      0.63        56\n",
      "       Irish       0.52      0.34      0.41        88\n",
      "     Italian       0.73      0.71      0.72       226\n",
      "    Japanese       0.84      0.86      0.85       302\n",
      "      Korean       0.27      0.14      0.18        29\n",
      "      Polish       0.53      0.44      0.48        41\n",
      "  Portuguese       0.07      0.05      0.05        22\n",
      "     Russian       0.92      0.95      0.94      2762\n",
      "    Scottish       0.03      0.03      0.03        34\n",
      "     Spanish       0.35      0.45      0.39        85\n",
      "  Vietnamese       0.83      0.25      0.38        20\n",
      "\n",
      "    accuracy                           0.82      6022\n",
      "   macro avg       0.56      0.50      0.51      6022\n",
      "weighted avg       0.82      0.82      0.81      6022\n",
      "\n"
     ]
    }
   ],
   "source": [
    "# Create data frame\n",
    "\n",
    "df = pd.DataFrame(predictions, columns=[\"Name\", \"Actual\", \"Predicted\"])\n",
    "\n",
    "report = classification_report(df[\"Actual\"], df[\"Predicted\"], zero_division=0)\n",
    "print(report)"
   ]
  },
  {
   "cell_type": "code",
   "execution_count": 21,
   "metadata": {},
   "outputs": [
    {
     "data": {
      "image/png": "[encoded data removed]",
      "text/plain": [
       "<Figure size 1500x1000 with 2 Axes>"
      ]
     },
     "metadata": {},
     "output_type": "display_data"
    }
   ],
   "source": [
    "import matplotlib.pyplot as plt\n",
    "\n",
    "plt.figure(figsize=(15, 10))\n",
    "ax = plt.gca()\n",
    "\n",
    "ConfusionMatrixDisplay.from_predictions(df[\"Actual\"], df[\"Predicted\"], ax=ax)\n",
    "\n",
    "# Rotate the xtick label\n",
    "plt.xticks(rotation=90)\n",
    "\n",
    "plt.show()"
   ]
  }
 ],
 "metadata": {
  "kernelspec": {
   "display_name": ".venv",
   "language": "python",
   "name": "python3"
  },
  "language_info": {
   "codemirror_mode": {
    "name": "ipython",
    "version": 3
   },
   "file_extension": ".py",
   "mimetype": "text/x-python",
   "name": "python",
   "nbconvert_exporter": "python",
   "pygments_lexer": "ipython3",
   "version": "3.12.3"
  }
 },
 "nbformat": 4,
 "nbformat_minor": 2
}
